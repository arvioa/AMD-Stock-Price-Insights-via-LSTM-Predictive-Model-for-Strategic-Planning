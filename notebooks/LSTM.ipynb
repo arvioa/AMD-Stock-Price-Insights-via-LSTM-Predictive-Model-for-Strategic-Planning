{
 "cells": [
  {
   "cell_type": "markdown",
   "id": "eaeb4926",
   "metadata": {},
   "source": [
    "Link Video : https://binusianorg-my.sharepoint.com/personal/arvio_anandi_binus_ac_id/_layouts/15/guestaccess.aspx?docid=0fbc04d557fd940398d75454e67128d44&authkey=AeR-HNxMpK-NJxI_OsRW1tw&e=0HdiGr"
   ]
  },
  {
   "cell_type": "markdown",
   "id": "0e87dbd8",
   "metadata": {},
   "source": [
    "# 1.a."
   ]
  },
  {
   "cell_type": "markdown",
   "id": "51fb71a2",
   "metadata": {},
   "source": [
    "## Data Preprocessing & Exploration"
   ]
  },
  {
   "cell_type": "code",
   "execution_count": 2,
   "id": "96136a95",
   "metadata": {},
   "outputs": [],
   "source": [
    "import pandas as pd\n",
    "import numpy as np\n",
    "from matplotlib import pyplot as plt\n",
    "from scipy.stats import skew\n",
    "import statsmodels.tsa.stattools as sts\n",
    "from statsmodels.tsa.seasonal import seasonal_decompose\n",
    "import statsmodels.graphics.tsaplots as sgt\n",
    "from tensorflow.keras.models import Sequential\n",
    "from tensorflow.keras.layers import *\n",
    "from tensorflow.keras.callbacks import ModelCheckpoint\n",
    "from tensorflow.keras.losses import MeanSquaredError \n",
    "from tensorflow.keras.metrics import RootMeanSquaredError\n",
    "from tensorflow.keras.optimizers import Adam\n",
    "from sklearn.metrics import mean_squared_error\n",
    "from sklearn.metrics import mean_absolute_error, mean_absolute_percentage_error as mape\n",
    "from tensorflow.keras.models import load_model\n",
    "from tensorflow.keras.losses import MeanAbsolutePercentageError\n",
    "import matplotlib.pyplot as plt\n",
    "import scipy.stats as stats\n",
    "import numpy as np\n",
    "from datetime import datetime\n",
    "from keras.callbacks import EarlyStopping\n",
    "import seaborn as sns\n",
    "import warnings\n",
    "warnings.filterwarnings(\"ignore\")"
   ]
  },
  {
   "cell_type": "code",
   "execution_count": 3,
   "id": "f794f8cb",
   "metadata": {},
   "outputs": [
    {
     "data": {
      "text/html": [
       "<div>\n",
       "<style scoped>\n",
       "    .dataframe tbody tr th:only-of-type {\n",
       "        vertical-align: middle;\n",
       "    }\n",
       "\n",
       "    .dataframe tbody tr th {\n",
       "        vertical-align: top;\n",
       "    }\n",
       "\n",
       "    .dataframe thead th {\n",
       "        text-align: right;\n",
       "    }\n",
       "</style>\n",
       "<table border=\"1\" class=\"dataframe\">\n",
       "  <thead>\n",
       "    <tr style=\"text-align: right;\">\n",
       "      <th></th>\n",
       "      <th>Date</th>\n",
       "      <th>Open</th>\n",
       "      <th>High</th>\n",
       "      <th>Low</th>\n",
       "      <th>Close</th>\n",
       "      <th>Adj Close</th>\n",
       "      <th>Volume</th>\n",
       "    </tr>\n",
       "  </thead>\n",
       "  <tbody>\n",
       "    <tr>\n",
       "      <th>0</th>\n",
       "      <td>1980-03-17</td>\n",
       "      <td>0.0</td>\n",
       "      <td>3.302083</td>\n",
       "      <td>3.125000</td>\n",
       "      <td>3.145833</td>\n",
       "      <td>3.145833</td>\n",
       "      <td>219600</td>\n",
       "    </tr>\n",
       "    <tr>\n",
       "      <th>1</th>\n",
       "      <td>1980-03-18</td>\n",
       "      <td>0.0</td>\n",
       "      <td>3.125000</td>\n",
       "      <td>2.937500</td>\n",
       "      <td>3.031250</td>\n",
       "      <td>3.031250</td>\n",
       "      <td>727200</td>\n",
       "    </tr>\n",
       "    <tr>\n",
       "      <th>2</th>\n",
       "      <td>1980-03-19</td>\n",
       "      <td>0.0</td>\n",
       "      <td>3.083333</td>\n",
       "      <td>3.020833</td>\n",
       "      <td>3.041667</td>\n",
       "      <td>3.041667</td>\n",
       "      <td>295200</td>\n",
       "    </tr>\n",
       "    <tr>\n",
       "      <th>3</th>\n",
       "      <td>1980-03-20</td>\n",
       "      <td>0.0</td>\n",
       "      <td>3.062500</td>\n",
       "      <td>3.010417</td>\n",
       "      <td>3.010417</td>\n",
       "      <td>3.010417</td>\n",
       "      <td>159600</td>\n",
       "    </tr>\n",
       "    <tr>\n",
       "      <th>4</th>\n",
       "      <td>1980-03-21</td>\n",
       "      <td>0.0</td>\n",
       "      <td>3.020833</td>\n",
       "      <td>2.906250</td>\n",
       "      <td>2.916667</td>\n",
       "      <td>2.916667</td>\n",
       "      <td>130800</td>\n",
       "    </tr>\n",
       "  </tbody>\n",
       "</table>\n",
       "</div>"
      ],
      "text/plain": [
       "         Date  Open      High       Low     Close  Adj Close  Volume\n",
       "0  1980-03-17   0.0  3.302083  3.125000  3.145833   3.145833  219600\n",
       "1  1980-03-18   0.0  3.125000  2.937500  3.031250   3.031250  727200\n",
       "2  1980-03-19   0.0  3.083333  3.020833  3.041667   3.041667  295200\n",
       "3  1980-03-20   0.0  3.062500  3.010417  3.010417   3.010417  159600\n",
       "4  1980-03-21   0.0  3.020833  2.906250  2.916667   2.916667  130800"
      ]
     },
     "execution_count": 3,
     "metadata": {},
     "output_type": "execute_result"
    }
   ],
   "source": [
    "# Baca dataset dari file CSV\n",
    "df = pd.read_csv('C://Users/User/Downloads/UAS_DL/AMD.csv')\n",
    "\n",
    "df.head()"
   ]
  },
  {
   "cell_type": "code",
   "execution_count": 4,
   "id": "ff4474c0",
   "metadata": {},
   "outputs": [
    {
     "name": "stdout",
     "output_type": "stream",
     "text": [
      "<class 'pandas.core.frame.DataFrame'>\n",
      "RangeIndex: 10098 entries, 0 to 10097\n",
      "Data columns (total 7 columns):\n",
      " #   Column     Non-Null Count  Dtype  \n",
      "---  ------     --------------  -----  \n",
      " 0   Date       10098 non-null  object \n",
      " 1   Open       10098 non-null  float64\n",
      " 2   High       10098 non-null  float64\n",
      " 3   Low        10098 non-null  float64\n",
      " 4   Close      10098 non-null  float64\n",
      " 5   Adj Close  10098 non-null  float64\n",
      " 6   Volume     10098 non-null  int64  \n",
      "dtypes: float64(5), int64(1), object(1)\n",
      "memory usage: 552.4+ KB\n"
     ]
    }
   ],
   "source": [
    "df.info()"
   ]
  },
  {
   "cell_type": "code",
   "execution_count": 5,
   "id": "95f0425c",
   "metadata": {
    "scrolled": true
   },
   "outputs": [
    {
     "data": {
      "text/html": [
       "<div>\n",
       "<style scoped>\n",
       "    .dataframe tbody tr th:only-of-type {\n",
       "        vertical-align: middle;\n",
       "    }\n",
       "\n",
       "    .dataframe tbody tr th {\n",
       "        vertical-align: top;\n",
       "    }\n",
       "\n",
       "    .dataframe thead th {\n",
       "        text-align: right;\n",
       "    }\n",
       "</style>\n",
       "<table border=\"1\" class=\"dataframe\">\n",
       "  <thead>\n",
       "    <tr style=\"text-align: right;\">\n",
       "      <th></th>\n",
       "      <th>Open</th>\n",
       "      <th>High</th>\n",
       "      <th>Low</th>\n",
       "      <th>Close</th>\n",
       "      <th>Adj Close</th>\n",
       "      <th>Volume</th>\n",
       "    </tr>\n",
       "  </thead>\n",
       "  <tbody>\n",
       "    <tr>\n",
       "      <th>count</th>\n",
       "      <td>10098.000000</td>\n",
       "      <td>10098.000000</td>\n",
       "      <td>10098.000000</td>\n",
       "      <td>10098.000000</td>\n",
       "      <td>10098.000000</td>\n",
       "      <td>1.009800e+04</td>\n",
       "    </tr>\n",
       "    <tr>\n",
       "      <th>mean</th>\n",
       "      <td>10.889136</td>\n",
       "      <td>11.462153</td>\n",
       "      <td>10.958702</td>\n",
       "      <td>11.210802</td>\n",
       "      <td>11.210802</td>\n",
       "      <td>1.451625e+07</td>\n",
       "    </tr>\n",
       "    <tr>\n",
       "      <th>std</th>\n",
       "      <td>8.615288</td>\n",
       "      <td>8.475056</td>\n",
       "      <td>8.077069</td>\n",
       "      <td>8.283645</td>\n",
       "      <td>8.283645</td>\n",
       "      <td>2.396199e+07</td>\n",
       "    </tr>\n",
       "    <tr>\n",
       "      <th>min</th>\n",
       "      <td>0.000000</td>\n",
       "      <td>1.690000</td>\n",
       "      <td>1.610000</td>\n",
       "      <td>1.620000</td>\n",
       "      <td>1.620000</td>\n",
       "      <td>0.000000e+00</td>\n",
       "    </tr>\n",
       "    <tr>\n",
       "      <th>25%</th>\n",
       "      <td>4.562500</td>\n",
       "      <td>5.062500</td>\n",
       "      <td>4.812500</td>\n",
       "      <td>4.937500</td>\n",
       "      <td>4.937500</td>\n",
       "      <td>1.098600e+06</td>\n",
       "    </tr>\n",
       "    <tr>\n",
       "      <th>50%</th>\n",
       "      <td>9.062500</td>\n",
       "      <td>9.280625</td>\n",
       "      <td>8.875000</td>\n",
       "      <td>9.062500</td>\n",
       "      <td>9.062500</td>\n",
       "      <td>5.518500e+06</td>\n",
       "    </tr>\n",
       "    <tr>\n",
       "      <th>75%</th>\n",
       "      <td>14.747500</td>\n",
       "      <td>15.000000</td>\n",
       "      <td>14.435625</td>\n",
       "      <td>14.707500</td>\n",
       "      <td>14.707500</td>\n",
       "      <td>1.742722e+07</td>\n",
       "    </tr>\n",
       "    <tr>\n",
       "      <th>max</th>\n",
       "      <td>58.439999</td>\n",
       "      <td>59.270000</td>\n",
       "      <td>57.509998</td>\n",
       "      <td>58.900002</td>\n",
       "      <td>58.900002</td>\n",
       "      <td>3.250584e+08</td>\n",
       "    </tr>\n",
       "  </tbody>\n",
       "</table>\n",
       "</div>"
      ],
      "text/plain": [
       "               Open          High           Low         Close     Adj Close  \\\n",
       "count  10098.000000  10098.000000  10098.000000  10098.000000  10098.000000   \n",
       "mean      10.889136     11.462153     10.958702     11.210802     11.210802   \n",
       "std        8.615288      8.475056      8.077069      8.283645      8.283645   \n",
       "min        0.000000      1.690000      1.610000      1.620000      1.620000   \n",
       "25%        4.562500      5.062500      4.812500      4.937500      4.937500   \n",
       "50%        9.062500      9.280625      8.875000      9.062500      9.062500   \n",
       "75%       14.747500     15.000000     14.435625     14.707500     14.707500   \n",
       "max       58.439999     59.270000     57.509998     58.900002     58.900002   \n",
       "\n",
       "             Volume  \n",
       "count  1.009800e+04  \n",
       "mean   1.451625e+07  \n",
       "std    2.396199e+07  \n",
       "min    0.000000e+00  \n",
       "25%    1.098600e+06  \n",
       "50%    5.518500e+06  \n",
       "75%    1.742722e+07  \n",
       "max    3.250584e+08  "
      ]
     },
     "execution_count": 5,
     "metadata": {},
     "output_type": "execute_result"
    }
   ],
   "source": [
    "df.describe()"
   ]
  },
  {
   "cell_type": "code",
   "execution_count": 6,
   "id": "c0956c0d",
   "metadata": {},
   "outputs": [
    {
     "data": {
      "text/plain": [
       "Date         0\n",
       "Open         0\n",
       "High         0\n",
       "Low          0\n",
       "Close        0\n",
       "Adj Close    0\n",
       "Volume       0\n",
       "dtype: int64"
      ]
     },
     "execution_count": 6,
     "metadata": {},
     "output_type": "execute_result"
    }
   ],
   "source": [
    "df.isna().sum()"
   ]
  },
  {
   "cell_type": "code",
   "execution_count": 7,
   "id": "ceab8482",
   "metadata": {},
   "outputs": [],
   "source": [
    "target = df.drop(['Open','High','Low','Adj Close','Volume'],axis=1)"
   ]
  },
  {
   "cell_type": "code",
   "execution_count": 8,
   "id": "8d84f4f5",
   "metadata": {},
   "outputs": [],
   "source": [
    "target.index = pd.to_datetime(target.Date)"
   ]
  },
  {
   "cell_type": "code",
   "execution_count": 9,
   "id": "0db03ff3",
   "metadata": {},
   "outputs": [
    {
     "data": {
      "text/html": [
       "<div>\n",
       "<style scoped>\n",
       "    .dataframe tbody tr th:only-of-type {\n",
       "        vertical-align: middle;\n",
       "    }\n",
       "\n",
       "    .dataframe tbody tr th {\n",
       "        vertical-align: top;\n",
       "    }\n",
       "\n",
       "    .dataframe thead th {\n",
       "        text-align: right;\n",
       "    }\n",
       "</style>\n",
       "<table border=\"1\" class=\"dataframe\">\n",
       "  <thead>\n",
       "    <tr style=\"text-align: right;\">\n",
       "      <th></th>\n",
       "      <th>Date</th>\n",
       "      <th>Close</th>\n",
       "    </tr>\n",
       "    <tr>\n",
       "      <th>Date</th>\n",
       "      <th></th>\n",
       "      <th></th>\n",
       "    </tr>\n",
       "  </thead>\n",
       "  <tbody>\n",
       "    <tr>\n",
       "      <th>1980-03-17</th>\n",
       "      <td>1980-03-17</td>\n",
       "      <td>3.145833</td>\n",
       "    </tr>\n",
       "    <tr>\n",
       "      <th>1980-03-18</th>\n",
       "      <td>1980-03-18</td>\n",
       "      <td>3.031250</td>\n",
       "    </tr>\n",
       "    <tr>\n",
       "      <th>1980-03-19</th>\n",
       "      <td>1980-03-19</td>\n",
       "      <td>3.041667</td>\n",
       "    </tr>\n",
       "    <tr>\n",
       "      <th>1980-03-20</th>\n",
       "      <td>1980-03-20</td>\n",
       "      <td>3.010417</td>\n",
       "    </tr>\n",
       "    <tr>\n",
       "      <th>1980-03-21</th>\n",
       "      <td>1980-03-21</td>\n",
       "      <td>2.916667</td>\n",
       "    </tr>\n",
       "    <tr>\n",
       "      <th>...</th>\n",
       "      <td>...</td>\n",
       "      <td>...</td>\n",
       "    </tr>\n",
       "    <tr>\n",
       "      <th>2020-03-26</th>\n",
       "      <td>2020-03-26</td>\n",
       "      <td>47.500000</td>\n",
       "    </tr>\n",
       "    <tr>\n",
       "      <th>2020-03-27</th>\n",
       "      <td>2020-03-27</td>\n",
       "      <td>46.580002</td>\n",
       "    </tr>\n",
       "    <tr>\n",
       "      <th>2020-03-30</th>\n",
       "      <td>2020-03-30</td>\n",
       "      <td>47.860001</td>\n",
       "    </tr>\n",
       "    <tr>\n",
       "      <th>2020-03-31</th>\n",
       "      <td>2020-03-31</td>\n",
       "      <td>45.480000</td>\n",
       "    </tr>\n",
       "    <tr>\n",
       "      <th>2020-04-01</th>\n",
       "      <td>2020-04-01</td>\n",
       "      <td>43.660000</td>\n",
       "    </tr>\n",
       "  </tbody>\n",
       "</table>\n",
       "<p>10098 rows × 2 columns</p>\n",
       "</div>"
      ],
      "text/plain": [
       "                  Date      Close\n",
       "Date                             \n",
       "1980-03-17  1980-03-17   3.145833\n",
       "1980-03-18  1980-03-18   3.031250\n",
       "1980-03-19  1980-03-19   3.041667\n",
       "1980-03-20  1980-03-20   3.010417\n",
       "1980-03-21  1980-03-21   2.916667\n",
       "...                ...        ...\n",
       "2020-03-26  2020-03-26  47.500000\n",
       "2020-03-27  2020-03-27  46.580002\n",
       "2020-03-30  2020-03-30  47.860001\n",
       "2020-03-31  2020-03-31  45.480000\n",
       "2020-04-01  2020-04-01  43.660000\n",
       "\n",
       "[10098 rows x 2 columns]"
      ]
     },
     "execution_count": 9,
     "metadata": {},
     "output_type": "execute_result"
    }
   ],
   "source": [
    "target"
   ]
  },
  {
   "cell_type": "code",
   "execution_count": 10,
   "id": "82905b39",
   "metadata": {},
   "outputs": [
    {
     "data": {
      "text/plain": [
       "<AxesSubplot:xlabel='Date'>"
      ]
     },
     "execution_count": 10,
     "metadata": {},
     "output_type": "execute_result"
    },
    {
     "data": {
      "image/png": "[encoded data removed]",
      "text/plain": [
       "<Figure size 432x288 with 1 Axes>"
      ]
     },
     "metadata": {
      "needs_background": "light"
     },
     "output_type": "display_data"
    }
   ],
   "source": [
    "target.plot()"
   ]
  },
  {
   "cell_type": "code",
   "execution_count": 11,
   "id": "6a79141d",
   "metadata": {},
   "outputs": [
    {
     "name": "stdout",
     "output_type": "stream",
     "text": [
      "Transformed Data:\n",
      "[1.1712063  1.13249088 1.13606819 ... 4.16466299 4.10570132 4.05857396]\n",
      "Lambda Value: 0.0377112539235464\n"
     ]
    }
   ],
   "source": [
    "# Transform the data using Box-Cox transformation\n",
    "transformed_data, lambda_value = stats.boxcox(target['Close'])\n",
    "\n",
    "target['Close'] = transformed_data\n",
    "\n",
    "# Print the transformed data and lambda value\n",
    "print(\"Transformed Data:\")\n",
    "print(transformed_data)\n",
    "print(\"Lambda Value:\", lambda_value)"
   ]
  },
  {
   "cell_type": "markdown",
   "id": "5f4865aa",
   "metadata": {},
   "source": [
    "To handle the outliers in the time series data, we use the boxcox transformation method to normalize the values of the dataset using the lambda value of 0.037."
   ]
  },
  {
   "cell_type": "code",
   "execution_count": 12,
   "id": "c2177ba9",
   "metadata": {},
   "outputs": [
    {
     "data": {
      "text/plain": [
       "<AxesSubplot:xlabel='Date'>"
      ]
     },
     "execution_count": 12,
     "metadata": {},
     "output_type": "execute_result"
    },
    {
     "data": {
      "image/png": "[encoded data removed]",
      "text/plain": [
       "<Figure size 432x288 with 1 Axes>"
      ]
     },
     "metadata": {
      "needs_background": "light"
     },
     "output_type": "display_data"
    }
   ],
   "source": [
    "target[\"Close\"].plot()"
   ]
  },
  {
   "cell_type": "markdown",
   "id": "e78210ce",
   "metadata": {},
   "source": [
    "Using the boxplot to check for outliers. The outliers were handled using the boxcox transformation method."
   ]
  },
  {
   "cell_type": "code",
   "execution_count": 13,
   "id": "1ff4508d",
   "metadata": {},
   "outputs": [],
   "source": [
    "# Convert 'Date' column to datetime type\n",
    "target['Date'] = pd.to_datetime(target['Date'])\n",
    "\n",
    "# Get the start of the week for each date\n",
    "target['WeekStart'] = target['Date'] - pd.to_timedelta(target['Date'].dt.dayofweek, unit='d')\n",
    "\n",
    "# Group by week and count the number of unique dates in each week\n",
    "week_counts = target.groupby('WeekStart')['Date'].nunique()\n",
    "\n",
    "# Find the weeks with 5 unique dates (complete weeks)\n",
    "complete_weeks = week_counts[week_counts == 5].index\n",
    "\n",
    "# Filter the DataFrame to keep only the complete weeks\n",
    "cleaned_df = target[target['WeekStart'].isin(complete_weeks)]\n",
    "\n",
    "# Reset the index if desired\n",
    "cleaned_df.reset_index(drop=True, inplace=True)"
   ]
  },
  {
   "cell_type": "markdown",
   "id": "55e8077a",
   "metadata": {},
   "source": [
    "To handle missing dates in the dataset, we create a new column called WeekStart which is the replication of Date column, then we find the week with 5 unique date dates (complete weeks), and lastly we filter the dataframe to keep only the complete weeks and reset the index to get a new dataframe with only complete weekdays."
   ]
  },
  {
   "cell_type": "code",
   "execution_count": 14,
   "id": "334c2ee6",
   "metadata": {},
   "outputs": [
    {
     "data": {
      "text/html": [
       "<div>\n",
       "<style scoped>\n",
       "    .dataframe tbody tr th:only-of-type {\n",
       "        vertical-align: middle;\n",
       "    }\n",
       "\n",
       "    .dataframe tbody tr th {\n",
       "        vertical-align: top;\n",
       "    }\n",
       "\n",
       "    .dataframe thead th {\n",
       "        text-align: right;\n",
       "    }\n",
       "</style>\n",
       "<table border=\"1\" class=\"dataframe\">\n",
       "  <thead>\n",
       "    <tr style=\"text-align: right;\">\n",
       "      <th></th>\n",
       "      <th>Date</th>\n",
       "      <th>Close</th>\n",
       "      <th>WeekStart</th>\n",
       "    </tr>\n",
       "  </thead>\n",
       "  <tbody>\n",
       "    <tr>\n",
       "      <th>0</th>\n",
       "      <td>1980-03-17</td>\n",
       "      <td>1.171206</td>\n",
       "      <td>1980-03-17</td>\n",
       "    </tr>\n",
       "    <tr>\n",
       "      <th>1</th>\n",
       "      <td>1980-03-18</td>\n",
       "      <td>1.132491</td>\n",
       "      <td>1980-03-17</td>\n",
       "    </tr>\n",
       "    <tr>\n",
       "      <th>2</th>\n",
       "      <td>1980-03-19</td>\n",
       "      <td>1.136068</td>\n",
       "      <td>1980-03-17</td>\n",
       "    </tr>\n",
       "    <tr>\n",
       "      <th>3</th>\n",
       "      <td>1980-03-20</td>\n",
       "      <td>1.125301</td>\n",
       "      <td>1980-03-17</td>\n",
       "    </tr>\n",
       "    <tr>\n",
       "      <th>4</th>\n",
       "      <td>1980-03-21</td>\n",
       "      <td>1.092341</td>\n",
       "      <td>1980-03-17</td>\n",
       "    </tr>\n",
       "    <tr>\n",
       "      <th>5</th>\n",
       "      <td>1980-03-24</td>\n",
       "      <td>0.999195</td>\n",
       "      <td>1980-03-24</td>\n",
       "    </tr>\n",
       "    <tr>\n",
       "      <th>6</th>\n",
       "      <td>1980-03-25</td>\n",
       "      <td>0.974595</td>\n",
       "      <td>1980-03-24</td>\n",
       "    </tr>\n",
       "    <tr>\n",
       "      <th>7</th>\n",
       "      <td>1980-03-26</td>\n",
       "      <td>0.910521</td>\n",
       "      <td>1980-03-24</td>\n",
       "    </tr>\n",
       "    <tr>\n",
       "      <th>8</th>\n",
       "      <td>1980-03-27</td>\n",
       "      <td>0.879260</td>\n",
       "      <td>1980-03-24</td>\n",
       "    </tr>\n",
       "    <tr>\n",
       "      <th>9</th>\n",
       "      <td>1980-03-28</td>\n",
       "      <td>0.949421</td>\n",
       "      <td>1980-03-24</td>\n",
       "    </tr>\n",
       "    <tr>\n",
       "      <th>10</th>\n",
       "      <td>1980-04-07</td>\n",
       "      <td>0.949421</td>\n",
       "      <td>1980-04-07</td>\n",
       "    </tr>\n",
       "    <tr>\n",
       "      <th>11</th>\n",
       "      <td>1980-04-08</td>\n",
       "      <td>0.970440</td>\n",
       "      <td>1980-04-07</td>\n",
       "    </tr>\n",
       "    <tr>\n",
       "      <th>12</th>\n",
       "      <td>1980-04-09</td>\n",
       "      <td>0.999195</td>\n",
       "      <td>1980-04-07</td>\n",
       "    </tr>\n",
       "    <tr>\n",
       "      <th>13</th>\n",
       "      <td>1980-04-10</td>\n",
       "      <td>1.027202</td>\n",
       "      <td>1980-04-07</td>\n",
       "    </tr>\n",
       "    <tr>\n",
       "      <th>14</th>\n",
       "      <td>1980-04-11</td>\n",
       "      <td>0.986965</td>\n",
       "      <td>1980-04-07</td>\n",
       "    </tr>\n",
       "    <tr>\n",
       "      <th>15</th>\n",
       "      <td>1980-04-14</td>\n",
       "      <td>0.957878</td>\n",
       "      <td>1980-04-14</td>\n",
       "    </tr>\n",
       "    <tr>\n",
       "      <th>16</th>\n",
       "      <td>1980-04-15</td>\n",
       "      <td>0.957878</td>\n",
       "      <td>1980-04-14</td>\n",
       "    </tr>\n",
       "    <tr>\n",
       "      <th>17</th>\n",
       "      <td>1980-04-16</td>\n",
       "      <td>0.870159</td>\n",
       "      <td>1980-04-14</td>\n",
       "    </tr>\n",
       "    <tr>\n",
       "      <th>18</th>\n",
       "      <td>1980-04-17</td>\n",
       "      <td>0.901682</td>\n",
       "      <td>1980-04-14</td>\n",
       "    </tr>\n",
       "    <tr>\n",
       "      <th>19</th>\n",
       "      <td>1980-04-18</td>\n",
       "      <td>0.856361</td>\n",
       "      <td>1980-04-14</td>\n",
       "    </tr>\n",
       "    <tr>\n",
       "      <th>20</th>\n",
       "      <td>1980-04-21</td>\n",
       "      <td>0.842383</td>\n",
       "      <td>1980-04-21</td>\n",
       "    </tr>\n",
       "    <tr>\n",
       "      <th>21</th>\n",
       "      <td>1980-04-22</td>\n",
       "      <td>0.957878</td>\n",
       "      <td>1980-04-21</td>\n",
       "    </tr>\n",
       "    <tr>\n",
       "      <th>22</th>\n",
       "      <td>1980-04-23</td>\n",
       "      <td>0.978734</td>\n",
       "      <td>1980-04-21</td>\n",
       "    </tr>\n",
       "    <tr>\n",
       "      <th>23</th>\n",
       "      <td>1980-04-24</td>\n",
       "      <td>1.042886</td>\n",
       "      <td>1980-04-21</td>\n",
       "    </tr>\n",
       "    <tr>\n",
       "      <th>24</th>\n",
       "      <td>1980-04-25</td>\n",
       "      <td>1.015288</td>\n",
       "      <td>1980-04-21</td>\n",
       "    </tr>\n",
       "    <tr>\n",
       "      <th>25</th>\n",
       "      <td>1980-04-28</td>\n",
       "      <td>1.023245</td>\n",
       "      <td>1980-04-28</td>\n",
       "    </tr>\n",
       "    <tr>\n",
       "      <th>26</th>\n",
       "      <td>1980-04-29</td>\n",
       "      <td>0.999195</td>\n",
       "      <td>1980-04-28</td>\n",
       "    </tr>\n",
       "    <tr>\n",
       "      <th>27</th>\n",
       "      <td>1980-04-30</td>\n",
       "      <td>0.953658</td>\n",
       "      <td>1980-04-28</td>\n",
       "    </tr>\n",
       "    <tr>\n",
       "      <th>28</th>\n",
       "      <td>1980-05-01</td>\n",
       "      <td>0.914913</td>\n",
       "      <td>1980-04-28</td>\n",
       "    </tr>\n",
       "    <tr>\n",
       "      <th>29</th>\n",
       "      <td>1980-05-02</td>\n",
       "      <td>0.919288</td>\n",
       "      <td>1980-04-28</td>\n",
       "    </tr>\n",
       "  </tbody>\n",
       "</table>\n",
       "</div>"
      ],
      "text/plain": [
       "         Date     Close  WeekStart\n",
       "0  1980-03-17  1.171206 1980-03-17\n",
       "1  1980-03-18  1.132491 1980-03-17\n",
       "2  1980-03-19  1.136068 1980-03-17\n",
       "3  1980-03-20  1.125301 1980-03-17\n",
       "4  1980-03-21  1.092341 1980-03-17\n",
       "5  1980-03-24  0.999195 1980-03-24\n",
       "6  1980-03-25  0.974595 1980-03-24\n",
       "7  1980-03-26  0.910521 1980-03-24\n",
       "8  1980-03-27  0.879260 1980-03-24\n",
       "9  1980-03-28  0.949421 1980-03-24\n",
       "10 1980-04-07  0.949421 1980-04-07\n",
       "11 1980-04-08  0.970440 1980-04-07\n",
       "12 1980-04-09  0.999195 1980-04-07\n",
       "13 1980-04-10  1.027202 1980-04-07\n",
       "14 1980-04-11  0.986965 1980-04-07\n",
       "15 1980-04-14  0.957878 1980-04-14\n",
       "16 1980-04-15  0.957878 1980-04-14\n",
       "17 1980-04-16  0.870159 1980-04-14\n",
       "18 1980-04-17  0.901682 1980-04-14\n",
       "19 1980-04-18  0.856361 1980-04-14\n",
       "20 1980-04-21  0.842383 1980-04-21\n",
       "21 1980-04-22  0.957878 1980-04-21\n",
       "22 1980-04-23  0.978734 1980-04-21\n",
       "23 1980-04-24  1.042886 1980-04-21\n",
       "24 1980-04-25  1.015288 1980-04-21\n",
       "25 1980-04-28  1.023245 1980-04-28\n",
       "26 1980-04-29  0.999195 1980-04-28\n",
       "27 1980-04-30  0.953658 1980-04-28\n",
       "28 1980-05-01  0.914913 1980-04-28\n",
       "29 1980-05-02  0.919288 1980-04-28"
      ]
     },
     "execution_count": 14,
     "metadata": {},
     "output_type": "execute_result"
    }
   ],
   "source": [
    "# Print the resulting DataFrame\n",
    "cleaned_df.head(30)"
   ]
  },
  {
   "cell_type": "code",
   "execution_count": 15,
   "id": "f724dcc4",
   "metadata": {},
   "outputs": [],
   "source": [
    "target = cleaned_df.drop(['WeekStart'],axis=1)"
   ]
  },
  {
   "cell_type": "markdown",
   "id": "9d1b9b63",
   "metadata": {},
   "source": [
    "Filter the dataset from unused column WeekStart."
   ]
  },
  {
   "cell_type": "code",
   "execution_count": 16,
   "id": "e8a9c5ba",
   "metadata": {},
   "outputs": [
    {
     "data": {
      "text/html": [
       "<div>\n",
       "<style scoped>\n",
       "    .dataframe tbody tr th:only-of-type {\n",
       "        vertical-align: middle;\n",
       "    }\n",
       "\n",
       "    .dataframe tbody tr th {\n",
       "        vertical-align: top;\n",
       "    }\n",
       "\n",
       "    .dataframe thead th {\n",
       "        text-align: right;\n",
       "    }\n",
       "</style>\n",
       "<table border=\"1\" class=\"dataframe\">\n",
       "  <thead>\n",
       "    <tr style=\"text-align: right;\">\n",
       "      <th></th>\n",
       "      <th>Close</th>\n",
       "    </tr>\n",
       "    <tr>\n",
       "      <th>Date</th>\n",
       "      <th></th>\n",
       "    </tr>\n",
       "  </thead>\n",
       "  <tbody>\n",
       "    <tr>\n",
       "      <th>1980-03-17</th>\n",
       "      <td>1.171206</td>\n",
       "    </tr>\n",
       "    <tr>\n",
       "      <th>1980-03-18</th>\n",
       "      <td>1.132491</td>\n",
       "    </tr>\n",
       "    <tr>\n",
       "      <th>1980-03-19</th>\n",
       "      <td>1.136068</td>\n",
       "    </tr>\n",
       "    <tr>\n",
       "      <th>1980-03-20</th>\n",
       "      <td>1.125301</td>\n",
       "    </tr>\n",
       "    <tr>\n",
       "      <th>1980-03-21</th>\n",
       "      <td>1.092341</td>\n",
       "    </tr>\n",
       "    <tr>\n",
       "      <th>1980-03-24</th>\n",
       "      <td>0.999195</td>\n",
       "    </tr>\n",
       "    <tr>\n",
       "      <th>1980-03-25</th>\n",
       "      <td>0.974595</td>\n",
       "    </tr>\n",
       "    <tr>\n",
       "      <th>1980-03-26</th>\n",
       "      <td>0.910521</td>\n",
       "    </tr>\n",
       "    <tr>\n",
       "      <th>1980-03-27</th>\n",
       "      <td>0.879260</td>\n",
       "    </tr>\n",
       "    <tr>\n",
       "      <th>1980-03-28</th>\n",
       "      <td>0.949421</td>\n",
       "    </tr>\n",
       "    <tr>\n",
       "      <th>1980-04-07</th>\n",
       "      <td>0.949421</td>\n",
       "    </tr>\n",
       "    <tr>\n",
       "      <th>1980-04-08</th>\n",
       "      <td>0.970440</td>\n",
       "    </tr>\n",
       "    <tr>\n",
       "      <th>1980-04-09</th>\n",
       "      <td>0.999195</td>\n",
       "    </tr>\n",
       "    <tr>\n",
       "      <th>1980-04-10</th>\n",
       "      <td>1.027202</td>\n",
       "    </tr>\n",
       "    <tr>\n",
       "      <th>1980-04-11</th>\n",
       "      <td>0.986965</td>\n",
       "    </tr>\n",
       "    <tr>\n",
       "      <th>1980-04-14</th>\n",
       "      <td>0.957878</td>\n",
       "    </tr>\n",
       "    <tr>\n",
       "      <th>1980-04-15</th>\n",
       "      <td>0.957878</td>\n",
       "    </tr>\n",
       "    <tr>\n",
       "      <th>1980-04-16</th>\n",
       "      <td>0.870159</td>\n",
       "    </tr>\n",
       "    <tr>\n",
       "      <th>1980-04-17</th>\n",
       "      <td>0.901682</td>\n",
       "    </tr>\n",
       "    <tr>\n",
       "      <th>1980-04-18</th>\n",
       "      <td>0.856361</td>\n",
       "    </tr>\n",
       "  </tbody>\n",
       "</table>\n",
       "</div>"
      ],
      "text/plain": [
       "               Close\n",
       "Date                \n",
       "1980-03-17  1.171206\n",
       "1980-03-18  1.132491\n",
       "1980-03-19  1.136068\n",
       "1980-03-20  1.125301\n",
       "1980-03-21  1.092341\n",
       "1980-03-24  0.999195\n",
       "1980-03-25  0.974595\n",
       "1980-03-26  0.910521\n",
       "1980-03-27  0.879260\n",
       "1980-03-28  0.949421\n",
       "1980-04-07  0.949421\n",
       "1980-04-08  0.970440\n",
       "1980-04-09  0.999195\n",
       "1980-04-10  1.027202\n",
       "1980-04-11  0.986965\n",
       "1980-04-14  0.957878\n",
       "1980-04-15  0.957878\n",
       "1980-04-16  0.870159\n",
       "1980-04-17  0.901682\n",
       "1980-04-18  0.856361"
      ]
     },
     "execution_count": 16,
     "metadata": {},
     "output_type": "execute_result"
    }
   ],
   "source": [
    "target.index = pd.to_datetime(target.Date)\n",
    "target = target.drop(['Date'],axis=1)\n",
    "target.head(20)"
   ]
  },
  {
   "cell_type": "markdown",
   "id": "a039cde6",
   "metadata": {},
   "source": [
    "## Stationarity"
   ]
  },
  {
   "cell_type": "code",
   "execution_count": 17,
   "id": "3babd704",
   "metadata": {
    "scrolled": true
   },
   "outputs": [
    {
     "data": {
      "text/plain": [
       "(-2.503185792772723,\n",
       " 0.11470110998151595,\n",
       " 9,\n",
       " 8710,\n",
       " {'1%': -3.431101002096113,\n",
       "  '5%': -2.861871892839921,\n",
       "  '10%': -2.566946661596196},\n",
       " -29511.08136764168)"
      ]
     },
     "execution_count": 17,
     "metadata": {},
     "output_type": "execute_result"
    }
   ],
   "source": [
    "sts.adfuller(target)"
   ]
  },
  {
   "cell_type": "markdown",
   "id": "67f32390",
   "metadata": {},
   "source": [
    "By looking at the p-value, there is very low chance of 0.11 that the data comes from a non-stationary process, therefore the dataset comes from a stationary process. Hence, detrending methods such as differencing or fitting a regression model and subtracting the fitted values are not needed for this dataset."
   ]
  },
  {
   "cell_type": "markdown",
   "id": "b2c6d2f5",
   "metadata": {},
   "source": [
    "## Window Partition"
   ]
  },
  {
   "cell_type": "code",
   "execution_count": 18,
   "id": "2d7b8e01",
   "metadata": {},
   "outputs": [],
   "source": [
    "def window_partition(df,window_size=5):\n",
    "    df_np = df.to_numpy()\n",
    "    X = []\n",
    "    y = []\n",
    "    for i in range(0,len(df_np)-window_size,5):\n",
    "        row = [[a] for a in df_np[i:i+5]]\n",
    "        col = df_np[i+5]\n",
    "        X.append(row)\n",
    "        y.append(col)\n",
    "    return np.array(X), np.array(y)"
   ]
  },
  {
   "cell_type": "markdown",
   "id": "db80a60e",
   "metadata": {},
   "source": [
    "We partition the data by iterating through the dataset with timestep of 5, where in each iteration, we assign the first 5 values to the row variable, and the next value to the col variable, then we append these values to an empty list of X and y. After the iterations, we return the X and y values as numpy. "
   ]
  },
  {
   "cell_type": "code",
   "execution_count": 19,
   "id": "4c0323a0",
   "metadata": {},
   "outputs": [
    {
     "data": {
      "text/plain": [
       "((1743, 5, 1, 1), (1743, 1))"
      ]
     },
     "execution_count": 19,
     "metadata": {},
     "output_type": "execute_result"
    }
   ],
   "source": [
    "WINDOW_SIZE = 5\n",
    "X, y = window_partition(target, WINDOW_SIZE)\n",
    "X.shape, y.shape"
   ]
  },
  {
   "cell_type": "markdown",
   "id": "06882436",
   "metadata": {},
   "source": [
    "We apply the function to the dataset with window size of 5, and we print out the shape resulting the shape shown above."
   ]
  },
  {
   "cell_type": "code",
   "execution_count": 20,
   "id": "acdca1b9",
   "metadata": {},
   "outputs": [],
   "source": [
    "# Reshape 'x' to (1743, 5)\n",
    "X = X.reshape(1743, 5)"
   ]
  },
  {
   "cell_type": "code",
   "execution_count": 22,
   "id": "d02b1041",
   "metadata": {},
   "outputs": [
    {
     "data": {
      "text/plain": [
       "(1743, 5)"
      ]
     },
     "execution_count": 22,
     "metadata": {},
     "output_type": "execute_result"
    }
   ],
   "source": [
    "X.shape"
   ]
  },
  {
   "cell_type": "markdown",
   "id": "d02ef4a8",
   "metadata": {},
   "source": [
    "We reshape the data to the format of (None,5) to fit the model input shape. The dataset is fit for data splitting."
   ]
  },
  {
   "cell_type": "markdown",
   "id": "c25a43db",
   "metadata": {},
   "source": [
    "## Data Splitting (80% Train, 10% Test, 10% Val)"
   ]
  },
  {
   "cell_type": "code",
   "execution_count": 23,
   "id": "b7ffdea5",
   "metadata": {},
   "outputs": [
    {
     "data": {
      "text/plain": [
       "((1394, 5), (1394, 1), (174, 5), (174, 1), (175, 5), (175, 1))"
      ]
     },
     "execution_count": 23,
     "metadata": {},
     "output_type": "execute_result"
    }
   ],
   "source": [
    "train_size = int(len(X)*0.8)\n",
    "val_size = int(len(X)*0.1)\n",
    "\n",
    "X_train, y_train = X[:train_size],y[:train_size]\n",
    "X_val, y_val = X[train_size:train_size+val_size], y[train_size:train_size+val_size]\n",
    "X_test, y_test = X[train_size+val_size:],y[train_size+val_size:]\n",
    "X_train.shape, y_train.shape,X_val.shape, y_val.shape, X_test.shape, y_test.shape"
   ]
  },
  {
   "cell_type": "markdown",
   "id": "2531da70",
   "metadata": {},
   "source": [
    "The dataset is split into 80% training data, 10% testing data, and 10% validation data."
   ]
  },
  {
   "cell_type": "markdown",
   "id": "418526ca",
   "metadata": {},
   "source": [
    "Short summary for preprocessing and exploration part : Overall, the dataset requires some preprocessing and exploration to be done such as handling outliers, handling missing dates in the dataset, window partitioning, and data splitting. But aside from that, the data does not suffer from stationarity nor missing values and is ready for model training. Therefore, we can proceed to next steps."
   ]
  },
  {
   "cell_type": "markdown",
   "id": "3b84e1d0",
   "metadata": {},
   "source": [
    "# 1.b."
   ]
  },
  {
   "cell_type": "markdown",
   "id": "64e04060",
   "metadata": {},
   "source": [
    "## 1st Architecture"
   ]
  },
  {
   "cell_type": "code",
   "execution_count": 84,
   "id": "c64a49f1",
   "metadata": {},
   "outputs": [
    {
     "name": "stdout",
     "output_type": "stream",
     "text": [
      "Model: \"sequential\"\n",
      "_________________________________________________________________\n",
      " Layer (type)                Output Shape              Param #   \n",
      "=================================================================\n",
      " lstm (LSTM)                 (None, 50)                10400     \n",
      "                                                                 \n",
      " dense (Dense)               (None, 1)                 51        \n",
      "                                                                 \n",
      "=================================================================\n",
      "Total params: 10,451\n",
      "Trainable params: 10,451\n",
      "Non-trainable params: 0\n",
      "_________________________________________________________________\n"
     ]
    }
   ],
   "source": [
    "model1 = Sequential()\n",
    "model1.add(LSTM(units=50, activation='relu', input_shape=(5,1)))\n",
    "model1.add(Dense(1))\n",
    "\n",
    "model1.summary()"
   ]
  },
  {
   "cell_type": "code",
   "execution_count": 85,
   "id": "4a4baf93",
   "metadata": {},
   "outputs": [
    {
     "name": "stdout",
     "output_type": "stream",
     "text": [
      "Epoch 1/10\n",
      "30/44 [===================>..........] - ETA: 0s - loss: 4.9295 - root_mean_squared_error: 2.2202 "
     ]
    },
    {
     "name": "stderr",
     "output_type": "stream",
     "text": [
      "WARNING:absl:Found untraced functions such as _update_step_xla while saving (showing 1 of 1). These functions will not be directly callable after loading.\n"
     ]
    },
    {
     "name": "stdout",
     "output_type": "stream",
     "text": [
      "INFO:tensorflow:Assets written to: model1\\assets\n"
     ]
    },
    {
     "name": "stderr",
     "output_type": "stream",
     "text": [
      "INFO:tensorflow:Assets written to: model1\\assets\n"
     ]
    },
    {
     "name": "stdout",
     "output_type": "stream",
     "text": [
      "44/44 [==============================] - 3s 39ms/step - loss: 4.7857 - root_mean_squared_error: 2.1876 - val_loss: 1.2083 - val_root_mean_squared_error: 1.0992\n",
      "Epoch 2/10\n",
      "25/44 [================>.............] - ETA: 0s - loss: 4.1518 - root_mean_squared_error: 2.0376"
     ]
    },
    {
     "name": "stderr",
     "output_type": "stream",
     "text": [
      "WARNING:absl:Found untraced functions such as _update_step_xla while saving (showing 1 of 1). These functions will not be directly callable after loading.\n"
     ]
    },
    {
     "name": "stdout",
     "output_type": "stream",
     "text": [
      "INFO:tensorflow:Assets written to: model1\\assets\n"
     ]
    },
    {
     "name": "stderr",
     "output_type": "stream",
     "text": [
      "INFO:tensorflow:Assets written to: model1\\assets\n"
     ]
    },
    {
     "name": "stdout",
     "output_type": "stream",
     "text": [
      "44/44 [==============================] - 1s 33ms/step - loss: 3.9682 - root_mean_squared_error: 1.9920 - val_loss: 0.9829 - val_root_mean_squared_error: 0.9914\n",
      "Epoch 3/10\n",
      "23/44 [==============>...............] - ETA: 0s - loss: 3.2970 - root_mean_squared_error: 1.8158"
     ]
    },
    {
     "name": "stderr",
     "output_type": "stream",
     "text": [
      "WARNING:absl:Found untraced functions such as _update_step_xla while saving (showing 1 of 1). These functions will not be directly callable after loading.\n"
     ]
    },
    {
     "name": "stdout",
     "output_type": "stream",
     "text": [
      "INFO:tensorflow:Assets written to: model1\\assets\n"
     ]
    },
    {
     "name": "stderr",
     "output_type": "stream",
     "text": [
      "INFO:tensorflow:Assets written to: model1\\assets\n"
     ]
    },
    {
     "name": "stdout",
     "output_type": "stream",
     "text": [
      "44/44 [==============================] - 1s 32ms/step - loss: 3.0569 - root_mean_squared_error: 1.7484 - val_loss: 0.7422 - val_root_mean_squared_error: 0.8615\n",
      "Epoch 4/10\n",
      "22/44 [==============>...............] - ETA: 0s - loss: 2.3094 - root_mean_squared_error: 1.5197"
     ]
    },
    {
     "name": "stderr",
     "output_type": "stream",
     "text": [
      "WARNING:absl:Found untraced functions such as _update_step_xla while saving (showing 1 of 1). These functions will not be directly callable after loading.\n"
     ]
    },
    {
     "name": "stdout",
     "output_type": "stream",
     "text": [
      "INFO:tensorflow:Assets written to: model1\\assets\n"
     ]
    },
    {
     "name": "stderr",
     "output_type": "stream",
     "text": [
      "INFO:tensorflow:Assets written to: model1\\assets\n"
     ]
    },
    {
     "name": "stdout",
     "output_type": "stream",
     "text": [
      "44/44 [==============================] - 2s 36ms/step - loss: 2.0196 - root_mean_squared_error: 1.4211 - val_loss: 0.4754 - val_root_mean_squared_error: 0.6895\n",
      "Epoch 5/10\n",
      "22/44 [==============>...............] - ETA: 0s - loss: 1.1678 - root_mean_squared_error: 1.0807"
     ]
    },
    {
     "name": "stderr",
     "output_type": "stream",
     "text": [
      "WARNING:absl:Found untraced functions such as _update_step_xla while saving (showing 1 of 1). These functions will not be directly callable after loading.\n"
     ]
    },
    {
     "name": "stdout",
     "output_type": "stream",
     "text": [
      "INFO:tensorflow:Assets written to: model1\\assets\n"
     ]
    },
    {
     "name": "stderr",
     "output_type": "stream",
     "text": [
      "INFO:tensorflow:Assets written to: model1\\assets\n"
     ]
    },
    {
     "name": "stdout",
     "output_type": "stream",
     "text": [
      "44/44 [==============================] - 1s 29ms/step - loss: 0.9287 - root_mean_squared_error: 0.9637 - val_loss: 0.2292 - val_root_mean_squared_error: 0.4788\n",
      "Epoch 6/10\n",
      "26/44 [================>.............] - ETA: 0s - loss: 0.2904 - root_mean_squared_error: 0.5388"
     ]
    },
    {
     "name": "stderr",
     "output_type": "stream",
     "text": [
      "WARNING:absl:Found untraced functions such as _update_step_xla while saving (showing 1 of 1). These functions will not be directly callable after loading.\n"
     ]
    },
    {
     "name": "stdout",
     "output_type": "stream",
     "text": [
      "INFO:tensorflow:Assets written to: model1\\assets\n"
     ]
    },
    {
     "name": "stderr",
     "output_type": "stream",
     "text": [
      "INFO:tensorflow:Assets written to: model1\\assets\n"
     ]
    },
    {
     "name": "stdout",
     "output_type": "stream",
     "text": [
      "44/44 [==============================] - 1s 34ms/step - loss: 0.2249 - root_mean_squared_error: 0.4743 - val_loss: 0.0952 - val_root_mean_squared_error: 0.3086\n",
      "Epoch 7/10\n",
      "22/44 [==============>...............] - ETA: 0s - loss: 0.0998 - root_mean_squared_error: 0.3159"
     ]
    },
    {
     "name": "stderr",
     "output_type": "stream",
     "text": [
      "WARNING:absl:Found untraced functions such as _update_step_xla while saving (showing 1 of 1). These functions will not be directly callable after loading.\n"
     ]
    },
    {
     "name": "stdout",
     "output_type": "stream",
     "text": [
      "INFO:tensorflow:Assets written to: model1\\assets\n"
     ]
    },
    {
     "name": "stderr",
     "output_type": "stream",
     "text": [
      "INFO:tensorflow:Assets written to: model1\\assets\n"
     ]
    },
    {
     "name": "stdout",
     "output_type": "stream",
     "text": [
      "44/44 [==============================] - 1s 31ms/step - loss: 0.0987 - root_mean_squared_error: 0.3141 - val_loss: 0.0752 - val_root_mean_squared_error: 0.2743\n",
      "Epoch 8/10\n",
      "24/44 [===============>..............] - ETA: 0s - loss: 0.0943 - root_mean_squared_error: 0.3071"
     ]
    },
    {
     "name": "stderr",
     "output_type": "stream",
     "text": [
      "WARNING:absl:Found untraced functions such as _update_step_xla while saving (showing 1 of 1). These functions will not be directly callable after loading.\n"
     ]
    },
    {
     "name": "stdout",
     "output_type": "stream",
     "text": [
      "INFO:tensorflow:Assets written to: model1\\assets\n"
     ]
    },
    {
     "name": "stderr",
     "output_type": "stream",
     "text": [
      "INFO:tensorflow:Assets written to: model1\\assets\n"
     ]
    },
    {
     "name": "stdout",
     "output_type": "stream",
     "text": [
      "44/44 [==============================] - 1s 34ms/step - loss: 0.0921 - root_mean_squared_error: 0.3034 - val_loss: 0.0713 - val_root_mean_squared_error: 0.2671\n",
      "Epoch 9/10\n",
      "29/44 [==================>...........] - ETA: 0s - loss: 0.0922 - root_mean_squared_error: 0.3037"
     ]
    },
    {
     "name": "stderr",
     "output_type": "stream",
     "text": [
      "WARNING:absl:Found untraced functions such as _update_step_xla while saving (showing 1 of 1). These functions will not be directly callable after loading.\n"
     ]
    },
    {
     "name": "stdout",
     "output_type": "stream",
     "text": [
      "INFO:tensorflow:Assets written to: model1\\assets\n"
     ]
    },
    {
     "name": "stderr",
     "output_type": "stream",
     "text": [
      "INFO:tensorflow:Assets written to: model1\\assets\n"
     ]
    },
    {
     "name": "stdout",
     "output_type": "stream",
     "text": [
      "44/44 [==============================] - 1s 30ms/step - loss: 0.0870 - root_mean_squared_error: 0.2949 - val_loss: 0.0661 - val_root_mean_squared_error: 0.2571\n",
      "Epoch 10/10\n",
      "27/44 [=================>............] - ETA: 0s - loss: 0.0825 - root_mean_squared_error: 0.2872"
     ]
    },
    {
     "name": "stderr",
     "output_type": "stream",
     "text": [
      "WARNING:absl:Found untraced functions such as _update_step_xla while saving (showing 1 of 1). These functions will not be directly callable after loading.\n"
     ]
    },
    {
     "name": "stdout",
     "output_type": "stream",
     "text": [
      "INFO:tensorflow:Assets written to: model1\\assets\n"
     ]
    },
    {
     "name": "stderr",
     "output_type": "stream",
     "text": [
      "INFO:tensorflow:Assets written to: model1\\assets\n"
     ]
    },
    {
     "name": "stdout",
     "output_type": "stream",
     "text": [
      "44/44 [==============================] - 1s 33ms/step - loss: 0.0820 - root_mean_squared_error: 0.2864 - val_loss: 0.0611 - val_root_mean_squared_error: 0.2472\n"
     ]
    },
    {
     "data": {
      "text/plain": [
       "<keras.callbacks.History at 0x185234a10a0>"
      ]
     },
     "execution_count": 85,
     "metadata": {},
     "output_type": "execute_result"
    }
   ],
   "source": [
    "model1.compile(loss=MeanSquaredError(), optimizer=Adam(learning_rate=0.0001), metrics=[RootMeanSquaredError()])\n",
    "model1.fit(X_train,y_train, validation_data=(X_val, y_val), epochs=10)"
   ]
  },
  {
   "cell_type": "markdown",
   "id": "78d2f28b",
   "metadata": {},
   "source": [
    "# 1.c. "
   ]
  },
  {
   "cell_type": "markdown",
   "id": "9f817862",
   "metadata": {},
   "source": [
    "## 2nd Architecture"
   ]
  },
  {
   "cell_type": "code",
   "execution_count": 244,
   "id": "8b916aec",
   "metadata": {},
   "outputs": [
    {
     "name": "stdout",
     "output_type": "stream",
     "text": [
      "Model: \"sequential_37\"\n",
      "_________________________________________________________________\n",
      " Layer (type)                Output Shape              Param #   \n",
      "=================================================================\n",
      " conv1d_69 (Conv1D)          (None, 5, 32)             64        \n",
      "                                                                 \n",
      " conv1d_70 (Conv1D)          (None, 4, 32)             2080      \n",
      "                                                                 \n",
      " lstm_54 (LSTM)              (None, 4, 50)             16600     \n",
      "                                                                 \n",
      " lstm_55 (LSTM)              (None, 4, 50)             20200     \n",
      "                                                                 \n",
      " flatten_11 (Flatten)        (None, 200)               0         \n",
      "                                                                 \n",
      " dense_117 (Dense)           (None, 32)                6432      \n",
      "                                                                 \n",
      " dense_118 (Dense)           (None, 16)                528       \n",
      "                                                                 \n",
      " dense_119 (Dense)           (None, 8)                 136       \n",
      "                                                                 \n",
      " dense_120 (Dense)           (None, 4)                 36        \n",
      "                                                                 \n",
      " dense_121 (Dense)           (None, 1)                 5         \n",
      "                                                                 \n",
      " re_lu_9 (ReLU)              (None, 1)                 0         \n",
      "                                                                 \n",
      "=================================================================\n",
      "Total params: 46,081\n",
      "Trainable params: 46,081\n",
      "Non-trainable params: 0\n",
      "_________________________________________________________________\n"
     ]
    }
   ],
   "source": [
    "model2 = Sequential()\n",
    "model2.add(Input(shape=(5, 1)))\n",
    "model2.add(Conv1D(filters=32, kernel_size=1, activation=\"relu\"))\n",
    "model2.add(Conv1D(filters=32, kernel_size=2, activation=\"relu\"))\n",
    "model2.add(LSTM(units=50,return_sequences=True))\n",
    "model2.add(LSTM(units=50,return_sequences=True))\n",
    "model2.add(Flatten())\n",
    "model2.add(Dense(32))\n",
    "model2.add(Dense(16))\n",
    "model2.add(Dense(8))\n",
    "model2.add(Dense(4))\n",
    "model2.add(Dense(1))\n",
    "model2.add(ReLU())\n",
    "\n",
    "model2.summary()"
   ]
  },
  {
   "cell_type": "code",
   "execution_count": 252,
   "id": "61392f96",
   "metadata": {},
   "outputs": [
    {
     "name": "stdout",
     "output_type": "stream",
     "text": [
      "Epoch 1/10\n",
      "44/44 [==============================] - 16s 41ms/step - loss: 6.9360 - root_mean_squared_error: 0.2487 - val_loss: 7.3413 - val_root_mean_squared_error: 0.0949\n",
      "Epoch 2/10\n",
      "44/44 [==============================] - 0s 4ms/step - loss: 3.4545 - root_mean_squared_error: 0.0978 - val_loss: 5.1602 - val_root_mean_squared_error: 0.0708\n",
      "Epoch 3/10\n",
      "44/44 [==============================] - 0s 4ms/step - loss: 3.2728 - root_mean_squared_error: 0.0927 - val_loss: 4.8839 - val_root_mean_squared_error: 0.0701\n",
      "Epoch 4/10\n",
      "44/44 [==============================] - 0s 4ms/step - loss: 3.5584 - root_mean_squared_error: 0.1041 - val_loss: 4.8312 - val_root_mean_squared_error: 0.0682\n",
      "Epoch 5/10\n",
      "44/44 [==============================] - 0s 5ms/step - loss: 3.4371 - root_mean_squared_error: 0.0974 - val_loss: 7.5596 - val_root_mean_squared_error: 0.0972\n",
      "Epoch 6/10\n",
      "44/44 [==============================] - 0s 7ms/step - loss: 3.5722 - root_mean_squared_error: 0.1010 - val_loss: 4.6523 - val_root_mean_squared_error: 0.0666\n",
      "Epoch 7/10\n",
      "44/44 [==============================] - 0s 4ms/step - loss: 4.0583 - root_mean_squared_error: 0.1160 - val_loss: 7.2404 - val_root_mean_squared_error: 0.0946\n",
      "Epoch 8/10\n",
      "44/44 [==============================] - 0s 4ms/step - loss: 4.1114 - root_mean_squared_error: 0.1171 - val_loss: 5.2058 - val_root_mean_squared_error: 0.0722\n",
      "Epoch 9/10\n",
      "44/44 [==============================] - 0s 4ms/step - loss: 3.5354 - root_mean_squared_error: 0.1000 - val_loss: 4.7487 - val_root_mean_squared_error: 0.0668\n",
      "Epoch 10/10\n",
      "44/44 [==============================] - 0s 4ms/step - loss: 3.3147 - root_mean_squared_error: 0.0964 - val_loss: 5.4562 - val_root_mean_squared_error: 0.0763\n"
     ]
    },
    {
     "data": {
      "text/plain": [
       "<keras.callbacks.History at 0x187c9242f70>"
      ]
     },
     "execution_count": 252,
     "metadata": {},
     "output_type": "execute_result"
    }
   ],
   "source": [
    "model2.compile(loss=MeanAbsolutePercentageError(), optimizer=Adam(learning_rate=0.003), metrics=[RootMeanSquaredError()])\n",
    "model2.fit(X_train,y_train, validation_data=(X_val, y_val), epochs=10)"
   ]
  },
  {
   "cell_type": "markdown",
   "id": "5906e05b",
   "metadata": {},
   "source": [
    "In the second LSTM architecture, we have an input layer that expects sequences of length 5, with each sequence having a single feature. This sets the foundation for processing our sequential data.\n",
    "\n",
    "Next, we employ two convolutional layers. The first layer uses a kernel size of 1, allowing it to focus on individual elements within the sequence. The second layer, with a kernel size of 2, can capture patterns across neighboring elements. Both convolutional layers employ 32 filters to extract relevant features.\n",
    "\n",
    "Moving forward, we introduce two LSTM layers. These layers have 50 units each, enabling them to learn and remember patterns across the sequences. By setting return_sequences=True, we ensure that the LSTM layers retain and output the full sequence of information.\n",
    "\n",
    "To prepare the output for further processing, we utilize a flatten layer, which transforms the multidimensional output from the LSTM layers into a 1D vector.\n",
    "\n",
    "The subsequent part of our architecture involves several dense layers. Each dense layer connects every neuron to those in the previous layer, gradually reducing the dimensionality of the data. We start with a dense layer of size 32, followed by layers of size 16, 8, and 4, respectively. Finally, we end with a dense layer of size 1, which yields the final output of our model.\n",
    "\n",
    "To introduce non-linearity and enhance the model's ability to capture complex patterns, we employ the ReLU activation function throughout the network. ReLU allows the model to make nonlinear transformations on the data and learn intricate relationships.\n",
    "\n",
    "In summary, this architecture combines convolutional and recurrent layers, making it ideal for processing sequential data such as time series or natural language. By utilizing convolutional layers, we extract local patterns, while LSTM layers enable the model to learn and remember long-term dependencies. The dense layers progressively reduce the dimensionality, leading to the final output."
   ]
  },
  {
   "cell_type": "markdown",
   "id": "08c315f0",
   "metadata": {},
   "source": [
    "# 1.d."
   ]
  },
  {
   "cell_type": "markdown",
   "id": "1a2ba32e",
   "metadata": {},
   "source": [
    "## Evaluation"
   ]
  },
  {
   "cell_type": "code",
   "execution_count": 227,
   "id": "349651e7",
   "metadata": {},
   "outputs": [
    {
     "name": "stdout",
     "output_type": "stream",
     "text": [
      "6/6 [==============================] - 0s 1ms/step\n",
      "6/6 [==============================] - 1s 3ms/step\n"
     ]
    }
   ],
   "source": [
    "model1_predictions = model1.predict(X_test)\n",
    "model2_predictions = model2.predict(X_test)"
   ]
  },
  {
   "cell_type": "code",
   "execution_count": 254,
   "id": "7c28f36d",
   "metadata": {},
   "outputs": [],
   "source": [
    "def mean_absolute_percentage_error(y_true, y_pred):\n",
    "    return np.mean(np.abs((y_true - y_pred) / y_true)) \n",
    "\n",
    "model1_rmse = np.sqrt(mean_squared_error(model1_predictions,y_test))\n",
    "model2_rmse = np.sqrt(mean_squared_error(model2_predictions,y_test))\n",
    "model1_mae = mean_absolute_error(model1_predictions,y_test)\n",
    "model2_mae = mean_absolute_error(model2_predictions,y_test)\n",
    "model1_mape=mape(model1_predictions,y_test)\n",
    "model2_mape=mape(model2_predictions,y_test)"
   ]
  },
  {
   "cell_type": "code",
   "execution_count": 256,
   "id": "15b39300",
   "metadata": {},
   "outputs": [
    {
     "name": "stdout",
     "output_type": "stream",
     "text": [
      "           RMSE     MAE    MAPE\n",
      "Model                          \n",
      "Model 1  0.2472  0.2324  0.2454\n",
      "Model 2  0.0792  0.0652  0.0583\n"
     ]
    }
   ],
   "source": [
    "# Create a dictionary with the evaluation results\n",
    "evaluation_data = {\n",
    "    'Model': ['Model 1', 'Model 2'],\n",
    "    'RMSE': [model1_rmse, model2_rmse],\n",
    "    'MAE': [model1_mae, model2_mae],\n",
    "    'MAPE': [model1_mape, model2_mape]\n",
    "}\n",
    "\n",
    "# Create a DataFrame from the evaluation data\n",
    "evaluation = pd.DataFrame(evaluation_data)\n",
    "\n",
    "# Set the 'Model' column as the index\n",
    "evaluation.set_index('Model', inplace=True)\n",
    "\n",
    "# Round the values to 4 decimal places\n",
    "evaluation = evaluation.round(4)\n",
    "\n",
    "# Print the evaluation DataFrame\n",
    "print(evaluation)\n"
   ]
  },
  {
   "cell_type": "markdown",
   "id": "ff97574a",
   "metadata": {},
   "source": [
    "RMSE (Root Mean Square Error) measures the prediction accuracy of the model by calculating the square root of the average of the squared differences between the predicted values and the actual values. The lower the RMSE value, the smaller the average deviation or error between the predictions and the actual values. In the context of stock prices, a low RMSE value indicates that the model's predictions tend to closely approximate the actual values accurately.\n",
    "\n",
    "MAE (Mean Absolute Error) measures the average absolute deviation between the predicted values and the actual values. MAE disregards the direction (positive or negative) of the prediction errors. The lower the MAE value, the closer the predictions are to the actual values overall. In the context of stock prices, a low MAE value indicates that the model generally has the ability to predict prices with low levels of error.\n",
    "\n",
    "MAPE (Mean Absolute Percentage Error) measures the average percentage of absolute errors relative to the actual values. MAPE provides an indication of how large the prediction errors are in proportion to the actual values. The lower the MAPE value, the smaller the percentage of prediction errors relative to the actual values. In the context of stock prices, a low MAPE value indicates that the model has a low level of error in predicting percentage changes in stock prices.\n",
    "\n",
    "Overall, the RMSE, MAE, and MAPE values of the second model are lower than those of the first model, indicating that the second model has better ability to capture patterns and trends in the data and minimize prediction errors compared to the first model. Therefore, the model that William S. Cleveland would use to create an application to help the company predict stock prices would be the second LSTM model."
   ]
  }
 ],
 "metadata": {
  "kernelspec": {
   "display_name": "Python 3",
   "language": "python",
   "name": "python3"
  },
  "language_info": {
   "codemirror_mode": {
    "name": "ipython",
    "version": 3
   },
   "file_extension": ".py",
   "mimetype": "text/x-python",
   "name": "python",
   "nbconvert_exporter": "python",
   "pygments_lexer": "ipython3",
   "version": "3.8.8"
  }
 },
 "nbformat": 4,
 "nbformat_minor": 5
}
